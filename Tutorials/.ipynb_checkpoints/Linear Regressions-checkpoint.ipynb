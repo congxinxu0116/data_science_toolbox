{
 "cells": [
  {
   "cell_type": "markdown",
   "metadata": {},
   "source": [
    "# Linear Regressions\n",
    "- Author: Congxin (David) Xu\n",
    "- Date: 2021/01/12\n",
    "\n",
    "\n",
    "## Description\n",
    "\n",
    "This tutorial is going to discuss how to implement linear regressions in `Python`. We are going to cover:\n",
    "\n",
    "- Ordinary Least Squares Regression\n",
    "- Step-wise Regression\n",
    "- Penalized Linear Regression\n",
    "  - Lasso Regression\n",
    "  - Ridge Regression\n",
    "  - Elastic Net Regression\n",
    "\n",
    "## Package Dependency\n",
    "\n",
    "- [`pandas`](https://pandas.pydata.org/)\n",
    "  - We will mainly use `pandas` for data manipulation and visualization.\n",
    "- [`numpy`](https://numpy.org/)\n",
    "  - We will mainly use `numpy` for calculations and data manipulation. \n",
    "- [`sklearn`](https://scikit-learn.org/stable/)\n",
    "  - Title: scikit-learn: machine learning in Python\n",
    "  - This is package that contains the `sklearn.neighbors.KNeighborsRegressor` function that will perform the K-Nearest-Neighbor regression\n",
    "  - We will also use the function `sklearn.model_selection.GridSearchCV` to perform cross validation.\n",
    "\n",
    "  \n",
    "## Use Case\n",
    "\n",
    "- Linear Regression models assume the linear relationship between the response variable and the predictors. It can be used to solve almost all regression type of problems.\n",
    "\n",
    "## Caution\n",
    "\n",
    "- If you care more about the inference of the model or the interpretation of the model, you need to pay attention to the potential violation of the assumptions of linear regression models. \n",
    "- If you care more about the predictive power of the model, you need to pay attention to the accuracy of the model.\n",
    "\n",
    "## Tutorial\n",
    "Load the required library"
   ]
  },
  {
   "cell_type": "code",
   "execution_count": 1,
   "metadata": {},
   "outputs": [],
   "source": [
    "import pandas\n",
    "import numpy\n",
    "import sklearn.linear_model"
   ]
  },
  {
   "cell_type": "markdown",
   "metadata": {},
   "source": [
    "The data we will use is the housing price data from [Kaggle](https://www.kaggle.com/c/house-prices-advanced-regression-techniques).\n",
    "\n",
    "- Response Variable: **`price`**\n",
    "\n",
    "**Read and Preview the Training Data**"
   ]
  },
  {
   "cell_type": "code",
   "execution_count": 2,
   "metadata": {},
   "outputs": [
    {
     "data": {
      "text/html": [
       "<div>\n",
       "<style scoped>\n",
       "    .dataframe tbody tr th:only-of-type {\n",
       "        vertical-align: middle;\n",
       "    }\n",
       "\n",
       "    .dataframe tbody tr th {\n",
       "        vertical-align: top;\n",
       "    }\n",
       "\n",
       "    .dataframe thead th {\n",
       "        text-align: right;\n",
       "    }\n",
       "</style>\n",
       "<table border=\"1\" class=\"dataframe\">\n",
       "  <thead>\n",
       "    <tr style=\"text-align: right;\">\n",
       "      <th></th>\n",
       "      <th>price</th>\n",
       "      <th>PoolArea</th>\n",
       "      <th>GarageCars</th>\n",
       "      <th>Fireplaces</th>\n",
       "      <th>TotRmsAbvGrd</th>\n",
       "      <th>Baths</th>\n",
       "      <th>SqFeet</th>\n",
       "      <th>CentralAir</th>\n",
       "      <th>Age</th>\n",
       "      <th>LotSize</th>\n",
       "      <th>BldgType</th>\n",
       "      <th>HouseStyle</th>\n",
       "      <th>condition</th>\n",
       "    </tr>\n",
       "  </thead>\n",
       "  <tbody>\n",
       "    <tr>\n",
       "      <th>0</th>\n",
       "      <td>208.5</td>\n",
       "      <td>0</td>\n",
       "      <td>2</td>\n",
       "      <td>0</td>\n",
       "      <td>8</td>\n",
       "      <td>3</td>\n",
       "      <td>1710</td>\n",
       "      <td>Y</td>\n",
       "      <td>5</td>\n",
       "      <td>8450</td>\n",
       "      <td>1Fam</td>\n",
       "      <td>2Story</td>\n",
       "      <td>5</td>\n",
       "    </tr>\n",
       "    <tr>\n",
       "      <th>1</th>\n",
       "      <td>140.0</td>\n",
       "      <td>0</td>\n",
       "      <td>3</td>\n",
       "      <td>1</td>\n",
       "      <td>7</td>\n",
       "      <td>1</td>\n",
       "      <td>1717</td>\n",
       "      <td>Y</td>\n",
       "      <td>91</td>\n",
       "      <td>9550</td>\n",
       "      <td>1Fam</td>\n",
       "      <td>2Story</td>\n",
       "      <td>5</td>\n",
       "    </tr>\n",
       "    <tr>\n",
       "      <th>2</th>\n",
       "      <td>250.0</td>\n",
       "      <td>0</td>\n",
       "      <td>3</td>\n",
       "      <td>1</td>\n",
       "      <td>9</td>\n",
       "      <td>3</td>\n",
       "      <td>2198</td>\n",
       "      <td>Y</td>\n",
       "      <td>8</td>\n",
       "      <td>14260</td>\n",
       "      <td>1Fam</td>\n",
       "      <td>2Story</td>\n",
       "      <td>5</td>\n",
       "    </tr>\n",
       "    <tr>\n",
       "      <th>3</th>\n",
       "      <td>143.0</td>\n",
       "      <td>0</td>\n",
       "      <td>2</td>\n",
       "      <td>0</td>\n",
       "      <td>5</td>\n",
       "      <td>2</td>\n",
       "      <td>1362</td>\n",
       "      <td>Y</td>\n",
       "      <td>16</td>\n",
       "      <td>14115</td>\n",
       "      <td>1Fam</td>\n",
       "      <td>1.5Fin</td>\n",
       "      <td>5</td>\n",
       "    </tr>\n",
       "    <tr>\n",
       "      <th>4</th>\n",
       "      <td>307.0</td>\n",
       "      <td>0</td>\n",
       "      <td>2</td>\n",
       "      <td>1</td>\n",
       "      <td>7</td>\n",
       "      <td>2</td>\n",
       "      <td>1694</td>\n",
       "      <td>Y</td>\n",
       "      <td>3</td>\n",
       "      <td>10084</td>\n",
       "      <td>1Fam</td>\n",
       "      <td>1Story</td>\n",
       "      <td>5</td>\n",
       "    </tr>\n",
       "  </tbody>\n",
       "</table>\n",
       "</div>"
      ],
      "text/plain": [
       "   price  PoolArea  GarageCars  Fireplaces  TotRmsAbvGrd  Baths  SqFeet  \\\n",
       "0  208.5         0           2           0             8      3    1710   \n",
       "1  140.0         0           3           1             7      1    1717   \n",
       "2  250.0         0           3           1             9      3    2198   \n",
       "3  143.0         0           2           0             5      2    1362   \n",
       "4  307.0         0           2           1             7      2    1694   \n",
       "\n",
       "  CentralAir  Age  LotSize BldgType HouseStyle  condition  \n",
       "0          Y    5     8450     1Fam     2Story          5  \n",
       "1          Y   91     9550     1Fam     2Story          5  \n",
       "2          Y    8    14260     1Fam     2Story          5  \n",
       "3          Y   16    14115     1Fam     1.5Fin          5  \n",
       "4          Y    3    10084     1Fam     1Story          5  "
      ]
     },
     "execution_count": 2,
     "metadata": {},
     "output_type": "execute_result"
    }
   ],
   "source": [
    "train = pandas.read_csv(\".\\\\Data\\\\realestate-train.csv\")\n",
    "train.head()"
   ]
  },
  {
   "cell_type": "markdown",
   "metadata": {},
   "source": [
    "**Read and Preview the Testing Data**"
   ]
  },
  {
   "cell_type": "code",
   "execution_count": 3,
   "metadata": {},
   "outputs": [
    {
     "data": {
      "text/html": [
       "<div>\n",
       "<style scoped>\n",
       "    .dataframe tbody tr th:only-of-type {\n",
       "        vertical-align: middle;\n",
       "    }\n",
       "\n",
       "    .dataframe tbody tr th {\n",
       "        vertical-align: top;\n",
       "    }\n",
       "\n",
       "    .dataframe thead th {\n",
       "        text-align: right;\n",
       "    }\n",
       "</style>\n",
       "<table border=\"1\" class=\"dataframe\">\n",
       "  <thead>\n",
       "    <tr style=\"text-align: right;\">\n",
       "      <th></th>\n",
       "      <th>price</th>\n",
       "      <th>PoolArea</th>\n",
       "      <th>GarageCars</th>\n",
       "      <th>Fireplaces</th>\n",
       "      <th>TotRmsAbvGrd</th>\n",
       "      <th>Baths</th>\n",
       "      <th>SqFeet</th>\n",
       "      <th>CentralAir</th>\n",
       "      <th>Age</th>\n",
       "      <th>LotSize</th>\n",
       "      <th>BldgType</th>\n",
       "      <th>HouseStyle</th>\n",
       "      <th>condition</th>\n",
       "    </tr>\n",
       "  </thead>\n",
       "  <tbody>\n",
       "    <tr>\n",
       "      <th>0</th>\n",
       "      <td>208.5</td>\n",
       "      <td>0</td>\n",
       "      <td>2</td>\n",
       "      <td>0</td>\n",
       "      <td>8</td>\n",
       "      <td>3</td>\n",
       "      <td>1710</td>\n",
       "      <td>Y</td>\n",
       "      <td>5</td>\n",
       "      <td>8450</td>\n",
       "      <td>1Fam</td>\n",
       "      <td>2Story</td>\n",
       "      <td>5</td>\n",
       "    </tr>\n",
       "    <tr>\n",
       "      <th>1</th>\n",
       "      <td>140.0</td>\n",
       "      <td>0</td>\n",
       "      <td>3</td>\n",
       "      <td>1</td>\n",
       "      <td>7</td>\n",
       "      <td>1</td>\n",
       "      <td>1717</td>\n",
       "      <td>Y</td>\n",
       "      <td>91</td>\n",
       "      <td>9550</td>\n",
       "      <td>1Fam</td>\n",
       "      <td>2Story</td>\n",
       "      <td>5</td>\n",
       "    </tr>\n",
       "    <tr>\n",
       "      <th>2</th>\n",
       "      <td>250.0</td>\n",
       "      <td>0</td>\n",
       "      <td>3</td>\n",
       "      <td>1</td>\n",
       "      <td>9</td>\n",
       "      <td>3</td>\n",
       "      <td>2198</td>\n",
       "      <td>Y</td>\n",
       "      <td>8</td>\n",
       "      <td>14260</td>\n",
       "      <td>1Fam</td>\n",
       "      <td>2Story</td>\n",
       "      <td>5</td>\n",
       "    </tr>\n",
       "    <tr>\n",
       "      <th>3</th>\n",
       "      <td>143.0</td>\n",
       "      <td>0</td>\n",
       "      <td>2</td>\n",
       "      <td>0</td>\n",
       "      <td>5</td>\n",
       "      <td>2</td>\n",
       "      <td>1362</td>\n",
       "      <td>Y</td>\n",
       "      <td>16</td>\n",
       "      <td>14115</td>\n",
       "      <td>1Fam</td>\n",
       "      <td>1.5Fin</td>\n",
       "      <td>5</td>\n",
       "    </tr>\n",
       "    <tr>\n",
       "      <th>4</th>\n",
       "      <td>307.0</td>\n",
       "      <td>0</td>\n",
       "      <td>2</td>\n",
       "      <td>1</td>\n",
       "      <td>7</td>\n",
       "      <td>2</td>\n",
       "      <td>1694</td>\n",
       "      <td>Y</td>\n",
       "      <td>3</td>\n",
       "      <td>10084</td>\n",
       "      <td>1Fam</td>\n",
       "      <td>1Story</td>\n",
       "      <td>5</td>\n",
       "    </tr>\n",
       "  </tbody>\n",
       "</table>\n",
       "</div>"
      ],
      "text/plain": [
       "   price  PoolArea  GarageCars  Fireplaces  TotRmsAbvGrd  Baths  SqFeet  \\\n",
       "0  208.5         0           2           0             8      3    1710   \n",
       "1  140.0         0           3           1             7      1    1717   \n",
       "2  250.0         0           3           1             9      3    2198   \n",
       "3  143.0         0           2           0             5      2    1362   \n",
       "4  307.0         0           2           1             7      2    1694   \n",
       "\n",
       "  CentralAir  Age  LotSize BldgType HouseStyle  condition  \n",
       "0          Y    5     8450     1Fam     2Story          5  \n",
       "1          Y   91     9550     1Fam     2Story          5  \n",
       "2          Y    8    14260     1Fam     2Story          5  \n",
       "3          Y   16    14115     1Fam     1.5Fin          5  \n",
       "4          Y    3    10084     1Fam     1Story          5  "
      ]
     },
     "execution_count": 3,
     "metadata": {},
     "output_type": "execute_result"
    }
   ],
   "source": [
    "test = pandas.read_csv(\".\\\\Data\\\\realestate-train.csv\")\n",
    "test.head()"
   ]
  },
  {
   "cell_type": "markdown",
   "metadata": {},
   "source": [
    "\n",
    "### Ordinary Least Squares Regression\n",
    "\n",
    "**Assumptions**\n",
    "\n",
    "1. The errors, for each fixed value of $x$, have mean 0.\n",
    "2. The errors, for each fixed value of $x$, have constant variance.\n",
    "3. The errors are independent.\n",
    "4. The errors, for each fixed value of $x$, follow a normal distribution.\n",
    "\n",
    "**For this section, we will just focus on the following predictors:**\n",
    "\n",
    "- `SqFeet`: *numeric*\n",
    "- `Age`: *numeric*\n",
    "- `Baths`: *numeric*\n",
    "- `TotRmsAbvGrd`: *numeric*\n",
    "- `BldgType`: *categorical*\n",
    "\n",
    "Because the last predictor `BldgType`, is a categorical variable, we need to convert that column to dummy variables. We will use the function `get_dummies(df, drop_first=True)` to get `n - 1` additional dummy variables, where `n` is the number of levels within the `BldgType` column."
   ]
  },
  {
   "cell_type": "code",
   "execution_count": 4,
   "metadata": {
    "scrolled": true
   },
   "outputs": [
    {
     "data": {
      "text/html": [
       "<div>\n",
       "<style scoped>\n",
       "    .dataframe tbody tr th:only-of-type {\n",
       "        vertical-align: middle;\n",
       "    }\n",
       "\n",
       "    .dataframe tbody tr th {\n",
       "        vertical-align: top;\n",
       "    }\n",
       "\n",
       "    .dataframe thead th {\n",
       "        text-align: right;\n",
       "    }\n",
       "</style>\n",
       "<table border=\"1\" class=\"dataframe\">\n",
       "  <thead>\n",
       "    <tr style=\"text-align: right;\">\n",
       "      <th></th>\n",
       "      <th>SqFeet</th>\n",
       "      <th>Age</th>\n",
       "      <th>Baths</th>\n",
       "      <th>TotRmsAbvGrd</th>\n",
       "      <th>BldgType_2fmCon</th>\n",
       "      <th>BldgType_Duplex</th>\n",
       "      <th>BldgType_Twnhs</th>\n",
       "      <th>BldgType_TwnhsE</th>\n",
       "    </tr>\n",
       "  </thead>\n",
       "  <tbody>\n",
       "    <tr>\n",
       "      <th>0</th>\n",
       "      <td>1710</td>\n",
       "      <td>5</td>\n",
       "      <td>3</td>\n",
       "      <td>8</td>\n",
       "      <td>0</td>\n",
       "      <td>0</td>\n",
       "      <td>0</td>\n",
       "      <td>0</td>\n",
       "    </tr>\n",
       "    <tr>\n",
       "      <th>1</th>\n",
       "      <td>1717</td>\n",
       "      <td>91</td>\n",
       "      <td>1</td>\n",
       "      <td>7</td>\n",
       "      <td>0</td>\n",
       "      <td>0</td>\n",
       "      <td>0</td>\n",
       "      <td>0</td>\n",
       "    </tr>\n",
       "    <tr>\n",
       "      <th>2</th>\n",
       "      <td>2198</td>\n",
       "      <td>8</td>\n",
       "      <td>3</td>\n",
       "      <td>9</td>\n",
       "      <td>0</td>\n",
       "      <td>0</td>\n",
       "      <td>0</td>\n",
       "      <td>0</td>\n",
       "    </tr>\n",
       "    <tr>\n",
       "      <th>3</th>\n",
       "      <td>1362</td>\n",
       "      <td>16</td>\n",
       "      <td>2</td>\n",
       "      <td>5</td>\n",
       "      <td>0</td>\n",
       "      <td>0</td>\n",
       "      <td>0</td>\n",
       "      <td>0</td>\n",
       "    </tr>\n",
       "    <tr>\n",
       "      <th>4</th>\n",
       "      <td>1694</td>\n",
       "      <td>3</td>\n",
       "      <td>2</td>\n",
       "      <td>7</td>\n",
       "      <td>0</td>\n",
       "      <td>0</td>\n",
       "      <td>0</td>\n",
       "      <td>0</td>\n",
       "    </tr>\n",
       "  </tbody>\n",
       "</table>\n",
       "</div>"
      ],
      "text/plain": [
       "   SqFeet  Age  Baths  TotRmsAbvGrd  BldgType_2fmCon  BldgType_Duplex  \\\n",
       "0    1710    5      3             8                0                0   \n",
       "1    1717   91      1             7                0                0   \n",
       "2    2198    8      3             9                0                0   \n",
       "3    1362   16      2             5                0                0   \n",
       "4    1694    3      2             7                0                0   \n",
       "\n",
       "   BldgType_Twnhs  BldgType_TwnhsE  \n",
       "0               0                0  \n",
       "1               0                0  \n",
       "2               0                0  \n",
       "3               0                0  \n",
       "4               0                0  "
      ]
     },
     "execution_count": 4,
     "metadata": {},
     "output_type": "execute_result"
    }
   ],
   "source": [
    "pandas.get_dummies(train[['SqFeet', 'Age', 'Baths', 'TotRmsAbvGrd', 'BldgType']], drop_first=True).head()"
   ]
  },
  {
   "cell_type": "markdown",
   "metadata": {},
   "source": [
    "**Set Up the Model**\n",
    "- Main Function: [`sklearn.linear_model.LinearRegression()`](https://scikit-learn.org/stable/modules/generated/sklearn.linear_model.LinearRegression.html#)"
   ]
  },
  {
   "cell_type": "code",
   "execution_count": 5,
   "metadata": {},
   "outputs": [],
   "source": [
    "# Train the linear model\n",
    "linear_model = sklearn.linear_model.\\\n",
    "    LinearRegression().fit(X = pandas.get_dummies(train[['SqFeet', 'Age', 'Baths', 'TotRmsAbvGrd', 'BldgType']],\n",
    "                                                  drop_first=True),\n",
    "                           y = train.price)"
   ]
  },
  {
   "cell_type": "code",
   "execution_count": 6,
   "metadata": {},
   "outputs": [
    {
     "data": {
      "text/plain": [
       "array([  0.12599788,  -1.19301576, -16.14740865,  -2.8715537 ,\n",
       "       -13.88413882, -48.50312778, -34.41530279, -10.47523877])"
      ]
     },
     "execution_count": 6,
     "metadata": {},
     "output_type": "execute_result"
    }
   ],
   "source": [
    "# Report the coefficients\n",
    "linear_model.coef_"
   ]
  },
  {
   "cell_type": "code",
   "execution_count": 7,
   "metadata": {},
   "outputs": [
    {
     "data": {
      "text/plain": [
       "88.84982744287555"
      ]
     },
     "execution_count": 7,
     "metadata": {},
     "output_type": "execute_result"
    }
   ],
   "source": [
    "# Report the intercept\n",
    "linear_model.intercept_"
   ]
  },
  {
   "cell_type": "markdown",
   "metadata": {},
   "source": [
    "**Making Predictions**"
   ]
  },
  {
   "cell_type": "code",
   "execution_count": 8,
   "metadata": {},
   "outputs": [
    {
     "data": {
      "text/plain": [
       "array([226.92645952, 160.37546013, 281.96282159, ..., 259.47122497,\n",
       "       243.22796703, 122.58941395])"
      ]
     },
     "execution_count": 8,
     "metadata": {},
     "output_type": "execute_result"
    }
   ],
   "source": [
    "linear_model.predict(X = pandas.get_dummies(test[['SqFeet', 'Age', 'Baths', 'TotRmsAbvGrd', 'BldgType']],\n",
    "                                            drop_first=True))"
   ]
  },
  {
   "cell_type": "markdown",
   "metadata": {},
   "source": [
    "### Stepwise Regression Model\n",
    "After doing some research, there is no good stepwise regression implementation in `sklearn`. Therefore, we are not going to have one here. You can refer to these pages: \n",
    "1. https://datascience.stackexchange.com/questions/937/does-scikit-learn-have-forward-selection-stepwise-regression-algorithm\n",
    "2. https://stackoverflow.com/questions/15433372/stepwise-regression-in-python\n",
    "\n",
    "\n",
    "### Penalized Linear Regression\n",
    "\n",
    "- $\\alpha$ is the penalty on including additional variables to the model.\n",
    "- **In the R HTML report, the penalty letter is $\\lambda$, in this Python report, the penalty is $\\alpha$**\n",
    "- We will first use cross validation to determine the best penalty for this model.\n",
    "\n",
    "#### Lasso Regression \n",
    "\n",
    "- **Lasso tends to shrink the coefficient of the predictors all the way to 0**.\n",
    "\n"
   ]
  },
  {
   "cell_type": "code",
   "execution_count": 9,
   "metadata": {},
   "outputs": [],
   "source": [
    "lasso_cv_model = sklearn.linear_model.LassoCV(cv = 10, random_state = 666).\\\n",
    "    fit(X = train[['SqFeet', 'Age', 'Baths', \n",
    "                   'TotRmsAbvGrd', 'PoolArea', 'GarageCars', \n",
    "                   'Fireplaces', 'LotSize', 'condition']],\n",
    "        y = train.price)"
   ]
  },
  {
   "cell_type": "markdown",
   "metadata": {},
   "source": [
    "**Report the Lasso CV Penalty `alpha_`**."
   ]
  },
  {
   "cell_type": "code",
   "execution_count": 10,
   "metadata": {},
   "outputs": [
    {
     "data": {
      "text/plain": [
       "222.75694053734532"
      ]
     },
     "execution_count": 10,
     "metadata": {},
     "output_type": "execute_result"
    }
   ],
   "source": [
    "lasso_cv_model.alpha_"
   ]
  },
  {
   "cell_type": "markdown",
   "metadata": {},
   "source": [
    "**Report the Lasso CV Model Coefficients**"
   ]
  },
  {
   "cell_type": "code",
   "execution_count": 11,
   "metadata": {},
   "outputs": [
    {
     "data": {
      "text/html": [
       "<div>\n",
       "<style scoped>\n",
       "    .dataframe tbody tr th:only-of-type {\n",
       "        vertical-align: middle;\n",
       "    }\n",
       "\n",
       "    .dataframe tbody tr th {\n",
       "        vertical-align: top;\n",
       "    }\n",
       "\n",
       "    .dataframe thead th {\n",
       "        text-align: right;\n",
       "    }\n",
       "</style>\n",
       "<table border=\"1\" class=\"dataframe\">\n",
       "  <thead>\n",
       "    <tr style=\"text-align: right;\">\n",
       "      <th></th>\n",
       "      <th>SqFeet</th>\n",
       "      <th>Age</th>\n",
       "      <th>Baths</th>\n",
       "      <th>TotRmsAbvGrd</th>\n",
       "      <th>PoolArea</th>\n",
       "      <th>GarageCars</th>\n",
       "      <th>Fireplaces</th>\n",
       "      <th>LotSize</th>\n",
       "      <th>condition</th>\n",
       "    </tr>\n",
       "  </thead>\n",
       "  <tbody>\n",
       "    <tr>\n",
       "      <th>0</th>\n",
       "      <td>0.102112</td>\n",
       "      <td>-0.783919</td>\n",
       "      <td>-0.0</td>\n",
       "      <td>-0.0</td>\n",
       "      <td>0.0</td>\n",
       "      <td>0.0</td>\n",
       "      <td>0.0</td>\n",
       "      <td>0.00079</td>\n",
       "      <td>0.0</td>\n",
       "    </tr>\n",
       "  </tbody>\n",
       "</table>\n",
       "</div>"
      ],
      "text/plain": [
       "     SqFeet       Age  Baths  TotRmsAbvGrd  PoolArea  GarageCars  Fireplaces  \\\n",
       "0  0.102112 -0.783919   -0.0          -0.0       0.0         0.0         0.0   \n",
       "\n",
       "   LotSize  condition  \n",
       "0  0.00079        0.0  "
      ]
     },
     "execution_count": 11,
     "metadata": {},
     "output_type": "execute_result"
    }
   ],
   "source": [
    "pandas.DataFrame(lasso_cv_model.coef_.reshape(1,-1),\n",
    "                 columns=['SqFeet', 'Age', 'Baths', \n",
    "                          'TotRmsAbvGrd', 'PoolArea', 'GarageCars', \n",
    "                          'Fireplaces', 'LotSize', 'condition'])"
   ]
  },
  {
   "cell_type": "markdown",
   "metadata": {},
   "source": [
    "Therefore, we can see that only `SqFeet`, `Age` and `LotSize` are selected by the Lasso Cross Validation Model.\n",
    "\n",
    "**Making Predictions**"
   ]
  },
  {
   "cell_type": "code",
   "execution_count": 12,
   "metadata": {},
   "outputs": [
    {
     "data": {
      "text/plain": [
       "array([225.23103146, 159.39760038, 277.29909107, ..., 244.86400869,\n",
       "       239.85853225, 118.58125091])"
      ]
     },
     "execution_count": 12,
     "metadata": {},
     "output_type": "execute_result"
    }
   ],
   "source": [
    "lasso_cv_model.predict(X = test[['SqFeet', 'Age', 'Baths', \n",
    "                                 'TotRmsAbvGrd', 'PoolArea', 'GarageCars', \n",
    "                                 'Fireplaces', 'LotSize', 'condition']])"
   ]
  },
  {
   "cell_type": "markdown",
   "metadata": {},
   "source": [
    "#### Ridge Regression\n",
    "\n",
    "- **Ridge tends to keep all the predictors.**"
   ]
  },
  {
   "cell_type": "code",
   "execution_count": 13,
   "metadata": {},
   "outputs": [],
   "source": [
    "ridge_cv_model = sklearn.linear_model.RidgeCV(cv = 10).\\\n",
    "    fit(X = train[['SqFeet', 'Age', 'Baths', \n",
    "                   'TotRmsAbvGrd', 'PoolArea', 'GarageCars', \n",
    "                   'Fireplaces', 'LotSize', 'condition']],\n",
    "        y = train.price)"
   ]
  },
  {
   "cell_type": "markdown",
   "metadata": {},
   "source": [
    "**Report the Ridge CV Penalty `alpha_`**."
   ]
  },
  {
   "cell_type": "code",
   "execution_count": 14,
   "metadata": {
    "scrolled": true
   },
   "outputs": [
    {
     "data": {
      "text/plain": [
       "10.0"
      ]
     },
     "execution_count": 14,
     "metadata": {},
     "output_type": "execute_result"
    }
   ],
   "source": [
    "ridge_cv_model.alpha_"
   ]
  },
  {
   "cell_type": "markdown",
   "metadata": {},
   "source": [
    "**Report the Ridge CV Model Coefficients**"
   ]
  },
  {
   "cell_type": "code",
   "execution_count": 15,
   "metadata": {},
   "outputs": [
    {
     "data": {
      "text/html": [
       "<div>\n",
       "<style scoped>\n",
       "    .dataframe tbody tr th:only-of-type {\n",
       "        vertical-align: middle;\n",
       "    }\n",
       "\n",
       "    .dataframe tbody tr th {\n",
       "        vertical-align: top;\n",
       "    }\n",
       "\n",
       "    .dataframe thead th {\n",
       "        text-align: right;\n",
       "    }\n",
       "</style>\n",
       "<table border=\"1\" class=\"dataframe\">\n",
       "  <thead>\n",
       "    <tr style=\"text-align: right;\">\n",
       "      <th></th>\n",
       "      <th>SqFeet</th>\n",
       "      <th>Age</th>\n",
       "      <th>Baths</th>\n",
       "      <th>TotRmsAbvGrd</th>\n",
       "      <th>PoolArea</th>\n",
       "      <th>GarageCars</th>\n",
       "      <th>Fireplaces</th>\n",
       "      <th>LotSize</th>\n",
       "      <th>condition</th>\n",
       "    </tr>\n",
       "  </thead>\n",
       "  <tbody>\n",
       "    <tr>\n",
       "      <th>0</th>\n",
       "      <td>0.105516</td>\n",
       "      <td>-1.082253</td>\n",
       "      <td>-14.205147</td>\n",
       "      <td>-3.037337</td>\n",
       "      <td>0.037954</td>\n",
       "      <td>17.507441</td>\n",
       "      <td>12.659982</td>\n",
       "      <td>0.00053</td>\n",
       "      <td>10.004051</td>\n",
       "    </tr>\n",
       "  </tbody>\n",
       "</table>\n",
       "</div>"
      ],
      "text/plain": [
       "     SqFeet       Age      Baths  TotRmsAbvGrd  PoolArea  GarageCars  \\\n",
       "0  0.105516 -1.082253 -14.205147     -3.037337  0.037954   17.507441   \n",
       "\n",
       "   Fireplaces  LotSize  condition  \n",
       "0   12.659982  0.00053  10.004051  "
      ]
     },
     "execution_count": 15,
     "metadata": {},
     "output_type": "execute_result"
    }
   ],
   "source": [
    "pandas.DataFrame(ridge_cv_model.coef_.reshape(1,-1),\n",
    "                 columns=['SqFeet', 'Age', 'Baths', \n",
    "                          'TotRmsAbvGrd', 'PoolArea', 'GarageCars', \n",
    "                          'Fireplaces', 'LotSize', 'condition'])"
   ]
  },
  {
   "cell_type": "markdown",
   "metadata": {},
   "source": [
    "**Making Predictions**"
   ]
  },
  {
   "cell_type": "code",
   "execution_count": 16,
   "metadata": {},
   "outputs": [
    {
     "data": {
      "text/plain": [
       "array([206.6501121 , 176.51334752, 285.10609287, ..., 270.80360447,\n",
       "       263.17145672, 111.13089136])"
      ]
     },
     "execution_count": 16,
     "metadata": {},
     "output_type": "execute_result"
    }
   ],
   "source": [
    "ridge_cv_model.predict(X = test[['SqFeet', 'Age', 'Baths', \n",
    "                                 'TotRmsAbvGrd', 'PoolArea', 'GarageCars', \n",
    "                                 'Fireplaces', 'LotSize', 'condition']])"
   ]
  },
  {
   "cell_type": "markdown",
   "metadata": {},
   "source": [
    "#### Elastic Net Regression\n",
    "- For Elastic Net, we have 2 tuning parameters `alpha` (penalty) and `l1_ratio` (scaling between l1 and l2 penalties).\n",
    "- We will pass a list of values for `l1_ratio` to the `sklearn.linear_model.ElasticNetCV()` function and let the cross validation help us choose the best value for `l1_ratio`.\n",
    "    - We choose 100 decimal values from 0.01 to 1 in this case using `numpy.arange()`"
   ]
  },
  {
   "cell_type": "code",
   "execution_count": 17,
   "metadata": {},
   "outputs": [],
   "source": [
    "elastic_net_model = sklearn.linear_model.ElasticNetCV(l1_ratio = numpy.arange(0.01, 1.0, 0.01), \n",
    "                                                      cv = 10, random_state = 666).\\\n",
    "    fit(X = train[['SqFeet', 'Age', 'Baths', \n",
    "                   'TotRmsAbvGrd', 'PoolArea', 'GarageCars', \n",
    "                   'Fireplaces', 'LotSize', 'condition']],\n",
    "        y = train.price)"
   ]
  },
  {
   "cell_type": "markdown",
   "metadata": {},
   "source": [
    "**Report the Elastic Net CV L1 Ratio**"
   ]
  },
  {
   "cell_type": "code",
   "execution_count": 18,
   "metadata": {},
   "outputs": [
    {
     "data": {
      "text/plain": [
       "0.99"
      ]
     },
     "execution_count": 18,
     "metadata": {},
     "output_type": "execute_result"
    }
   ],
   "source": [
    "elastic_net_model.l1_ratio_"
   ]
  },
  {
   "cell_type": "markdown",
   "metadata": {},
   "source": [
    "**Report the Elastic Net Penalty**"
   ]
  },
  {
   "cell_type": "code",
   "execution_count": 19,
   "metadata": {},
   "outputs": [
    {
     "data": {
      "text/plain": [
       "225.00701064378327"
      ]
     },
     "execution_count": 19,
     "metadata": {},
     "output_type": "execute_result"
    }
   ],
   "source": [
    "elastic_net_model.alpha_"
   ]
  },
  {
   "cell_type": "markdown",
   "metadata": {},
   "source": [
    "**Report the Elastic Net CV Model Coefficients**"
   ]
  },
  {
   "cell_type": "code",
   "execution_count": 20,
   "metadata": {},
   "outputs": [
    {
     "data": {
      "text/html": [
       "<div>\n",
       "<style scoped>\n",
       "    .dataframe tbody tr th:only-of-type {\n",
       "        vertical-align: middle;\n",
       "    }\n",
       "\n",
       "    .dataframe tbody tr th {\n",
       "        vertical-align: top;\n",
       "    }\n",
       "\n",
       "    .dataframe thead th {\n",
       "        text-align: right;\n",
       "    }\n",
       "</style>\n",
       "<table border=\"1\" class=\"dataframe\">\n",
       "  <thead>\n",
       "    <tr style=\"text-align: right;\">\n",
       "      <th></th>\n",
       "      <th>SqFeet</th>\n",
       "      <th>Age</th>\n",
       "      <th>Baths</th>\n",
       "      <th>TotRmsAbvGrd</th>\n",
       "      <th>PoolArea</th>\n",
       "      <th>GarageCars</th>\n",
       "      <th>Fireplaces</th>\n",
       "      <th>LotSize</th>\n",
       "      <th>condition</th>\n",
       "    </tr>\n",
       "  </thead>\n",
       "  <tbody>\n",
       "    <tr>\n",
       "      <th>0</th>\n",
       "      <td>0.102138</td>\n",
       "      <td>-0.781866</td>\n",
       "      <td>-0.0</td>\n",
       "      <td>-0.0</td>\n",
       "      <td>0.0</td>\n",
       "      <td>0.0</td>\n",
       "      <td>0.0</td>\n",
       "      <td>0.00079</td>\n",
       "      <td>0.0</td>\n",
       "    </tr>\n",
       "  </tbody>\n",
       "</table>\n",
       "</div>"
      ],
      "text/plain": [
       "     SqFeet       Age  Baths  TotRmsAbvGrd  PoolArea  GarageCars  Fireplaces  \\\n",
       "0  0.102138 -0.781866   -0.0          -0.0       0.0         0.0         0.0   \n",
       "\n",
       "   LotSize  condition  \n",
       "0  0.00079        0.0  "
      ]
     },
     "execution_count": 20,
     "metadata": {},
     "output_type": "execute_result"
    }
   ],
   "source": [
    "pandas.DataFrame(elastic_net_model.coef_.reshape(1,-1),\n",
    "                 columns=['SqFeet', 'Age', 'Baths', \n",
    "                          'TotRmsAbvGrd', 'PoolArea', 'GarageCars', \n",
    "                          'Fireplaces', 'LotSize', 'condition'])"
   ]
  },
  {
   "cell_type": "markdown",
   "metadata": {},
   "source": [
    "**Making Predictions**"
   ]
  },
  {
   "cell_type": "code",
   "execution_count": 21,
   "metadata": {},
   "outputs": [
    {
     "data": {
      "text/plain": [
       "array([225.17355639, 159.51656131, 277.25866825, ..., 244.86995935,\n",
       "       239.94825671, 118.62033247])"
      ]
     },
     "execution_count": 21,
     "metadata": {},
     "output_type": "execute_result"
    }
   ],
   "source": [
    "elastic_net_model.predict(X = test[['SqFeet', 'Age', 'Baths', \n",
    "                                 'TotRmsAbvGrd', 'PoolArea', 'GarageCars', \n",
    "                                 'Fireplaces', 'LotSize', 'condition']])"
   ]
  }
 ],
 "metadata": {
  "kernelspec": {
   "display_name": "Python 3",
   "language": "python",
   "name": "python3"
  },
  "language_info": {
   "codemirror_mode": {
    "name": "ipython",
    "version": 3
   },
   "file_extension": ".py",
   "mimetype": "text/x-python",
   "name": "python",
   "nbconvert_exporter": "python",
   "pygments_lexer": "ipython3",
   "version": "3.7.6"
  }
 },
 "nbformat": 4,
 "nbformat_minor": 4
}
