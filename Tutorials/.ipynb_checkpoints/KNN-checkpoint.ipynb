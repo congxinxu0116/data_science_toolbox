{
 "cells": [
  {
   "cell_type": "markdown",
   "metadata": {},
   "source": [
    "# K Nearest Neighbor Tutorial\n",
    "- Author: Congxin (David) Xu\n",
    "- Date: 2020/12/21\n",
    "\n",
    "## Description\n",
    "\n",
    "This tutorial is going to discuss how to implement K Nearest Neighbor model in `Python`. \n",
    "\n",
    "## Package Dependency\n",
    "\n",
    "- [`pandas`](https://pandas.pydata.org/)\n",
    "  - We will mainly use `pandas` for data manipulation and visualization.\n",
    "- [`numpy`](https://numpy.org/)\n",
    "  - We will mainly use `numpy` for calculations and data manipulation. \n",
    "- [`sklearn`](https://scikit-learn.org/stable/)\n",
    "  - Title: scikit-learn: machine learning in Python\n",
    "  - This is package that contains the `sklearn.neighbors.KNeighborsRegressor` function that will perform the K-Nearest-Neighbor regression\n",
    "  - We will also use the function `sklearn.model_selection.GridSearchCV` to perform cross validation.\n",
    "\n",
    "## Use Case\n",
    "\n",
    "- Solving regression type of problem\n",
    "- Fill in missing period handling\n",
    "\n",
    "## Caution\n",
    "\n",
    "- Do not use to predict something the training data has not seen before.\n",
    "- Need to find a way to convert categorical predictors to numeric predictors.\n",
    "\n",
    "## Tutorial\n",
    "Load the required modules"
   ]
  },
  {
   "cell_type": "code",
   "execution_count": 1,
   "metadata": {},
   "outputs": [],
   "source": [
    "import pandas\n",
    "import numpy\n",
    "import sklearn.neighbors\n",
    "import sklearn.model_selection"
   ]
  },
  {
   "cell_type": "markdown",
   "metadata": {},
   "source": [
    "The data we will use is the housing price data from [Kaggle](https://www.kaggle.com/c/house-prices-advanced-regression-techniques).\n",
    "\n",
    "- Response Variable: **`price`**\n",
    "\n",
    "**Read and Preview the Training Data**"
   ]
  },
  {
   "cell_type": "code",
   "execution_count": 2,
   "metadata": {},
   "outputs": [
    {
     "data": {
      "text/html": [
       "<div>\n",
       "<style scoped>\n",
       "    .dataframe tbody tr th:only-of-type {\n",
       "        vertical-align: middle;\n",
       "    }\n",
       "\n",
       "    .dataframe tbody tr th {\n",
       "        vertical-align: top;\n",
       "    }\n",
       "\n",
       "    .dataframe thead th {\n",
       "        text-align: right;\n",
       "    }\n",
       "</style>\n",
       "<table border=\"1\" class=\"dataframe\">\n",
       "  <thead>\n",
       "    <tr style=\"text-align: right;\">\n",
       "      <th></th>\n",
       "      <th>price</th>\n",
       "      <th>PoolArea</th>\n",
       "      <th>GarageCars</th>\n",
       "      <th>Fireplaces</th>\n",
       "      <th>TotRmsAbvGrd</th>\n",
       "      <th>Baths</th>\n",
       "      <th>SqFeet</th>\n",
       "      <th>CentralAir</th>\n",
       "      <th>Age</th>\n",
       "      <th>LotSize</th>\n",
       "      <th>BldgType</th>\n",
       "      <th>HouseStyle</th>\n",
       "      <th>condition</th>\n",
       "    </tr>\n",
       "  </thead>\n",
       "  <tbody>\n",
       "    <tr>\n",
       "      <th>0</th>\n",
       "      <td>208.5</td>\n",
       "      <td>0</td>\n",
       "      <td>2</td>\n",
       "      <td>0</td>\n",
       "      <td>8</td>\n",
       "      <td>3</td>\n",
       "      <td>1710</td>\n",
       "      <td>Y</td>\n",
       "      <td>5</td>\n",
       "      <td>8450</td>\n",
       "      <td>1Fam</td>\n",
       "      <td>2Story</td>\n",
       "      <td>5</td>\n",
       "    </tr>\n",
       "    <tr>\n",
       "      <th>1</th>\n",
       "      <td>140.0</td>\n",
       "      <td>0</td>\n",
       "      <td>3</td>\n",
       "      <td>1</td>\n",
       "      <td>7</td>\n",
       "      <td>1</td>\n",
       "      <td>1717</td>\n",
       "      <td>Y</td>\n",
       "      <td>91</td>\n",
       "      <td>9550</td>\n",
       "      <td>1Fam</td>\n",
       "      <td>2Story</td>\n",
       "      <td>5</td>\n",
       "    </tr>\n",
       "    <tr>\n",
       "      <th>2</th>\n",
       "      <td>250.0</td>\n",
       "      <td>0</td>\n",
       "      <td>3</td>\n",
       "      <td>1</td>\n",
       "      <td>9</td>\n",
       "      <td>3</td>\n",
       "      <td>2198</td>\n",
       "      <td>Y</td>\n",
       "      <td>8</td>\n",
       "      <td>14260</td>\n",
       "      <td>1Fam</td>\n",
       "      <td>2Story</td>\n",
       "      <td>5</td>\n",
       "    </tr>\n",
       "    <tr>\n",
       "      <th>3</th>\n",
       "      <td>143.0</td>\n",
       "      <td>0</td>\n",
       "      <td>2</td>\n",
       "      <td>0</td>\n",
       "      <td>5</td>\n",
       "      <td>2</td>\n",
       "      <td>1362</td>\n",
       "      <td>Y</td>\n",
       "      <td>16</td>\n",
       "      <td>14115</td>\n",
       "      <td>1Fam</td>\n",
       "      <td>1.5Fin</td>\n",
       "      <td>5</td>\n",
       "    </tr>\n",
       "    <tr>\n",
       "      <th>4</th>\n",
       "      <td>307.0</td>\n",
       "      <td>0</td>\n",
       "      <td>2</td>\n",
       "      <td>1</td>\n",
       "      <td>7</td>\n",
       "      <td>2</td>\n",
       "      <td>1694</td>\n",
       "      <td>Y</td>\n",
       "      <td>3</td>\n",
       "      <td>10084</td>\n",
       "      <td>1Fam</td>\n",
       "      <td>1Story</td>\n",
       "      <td>5</td>\n",
       "    </tr>\n",
       "  </tbody>\n",
       "</table>\n",
       "</div>"
      ],
      "text/plain": [
       "   price  PoolArea  GarageCars  Fireplaces  TotRmsAbvGrd  Baths  SqFeet  \\\n",
       "0  208.5         0           2           0             8      3    1710   \n",
       "1  140.0         0           3           1             7      1    1717   \n",
       "2  250.0         0           3           1             9      3    2198   \n",
       "3  143.0         0           2           0             5      2    1362   \n",
       "4  307.0         0           2           1             7      2    1694   \n",
       "\n",
       "  CentralAir  Age  LotSize BldgType HouseStyle  condition  \n",
       "0          Y    5     8450     1Fam     2Story          5  \n",
       "1          Y   91     9550     1Fam     2Story          5  \n",
       "2          Y    8    14260     1Fam     2Story          5  \n",
       "3          Y   16    14115     1Fam     1.5Fin          5  \n",
       "4          Y    3    10084     1Fam     1Story          5  "
      ]
     },
     "execution_count": 2,
     "metadata": {},
     "output_type": "execute_result"
    }
   ],
   "source": [
    "train = pandas.read_csv('Data\\\\realestate-train.csv')\n",
    "train.head()"
   ]
  },
  {
   "cell_type": "markdown",
   "metadata": {},
   "source": [
    "**Read and Preview the Testing Data**"
   ]
  },
  {
   "cell_type": "code",
   "execution_count": 3,
   "metadata": {},
   "outputs": [
    {
     "data": {
      "text/html": [
       "<div>\n",
       "<style scoped>\n",
       "    .dataframe tbody tr th:only-of-type {\n",
       "        vertical-align: middle;\n",
       "    }\n",
       "\n",
       "    .dataframe tbody tr th {\n",
       "        vertical-align: top;\n",
       "    }\n",
       "\n",
       "    .dataframe thead th {\n",
       "        text-align: right;\n",
       "    }\n",
       "</style>\n",
       "<table border=\"1\" class=\"dataframe\">\n",
       "  <thead>\n",
       "    <tr style=\"text-align: right;\">\n",
       "      <th></th>\n",
       "      <th>PoolArea</th>\n",
       "      <th>GarageCars</th>\n",
       "      <th>Fireplaces</th>\n",
       "      <th>TotRmsAbvGrd</th>\n",
       "      <th>Baths</th>\n",
       "      <th>SqFeet</th>\n",
       "      <th>CentralAir</th>\n",
       "      <th>Age</th>\n",
       "      <th>LotSize</th>\n",
       "      <th>BldgType</th>\n",
       "      <th>HouseStyle</th>\n",
       "      <th>condition</th>\n",
       "    </tr>\n",
       "  </thead>\n",
       "  <tbody>\n",
       "    <tr>\n",
       "      <th>0</th>\n",
       "      <td>0</td>\n",
       "      <td>2</td>\n",
       "      <td>0</td>\n",
       "      <td>6</td>\n",
       "      <td>2</td>\n",
       "      <td>1516</td>\n",
       "      <td>Y</td>\n",
       "      <td>45</td>\n",
       "      <td>10004</td>\n",
       "      <td>1Fam</td>\n",
       "      <td>1Story</td>\n",
       "      <td>6</td>\n",
       "    </tr>\n",
       "    <tr>\n",
       "      <th>1</th>\n",
       "      <td>0</td>\n",
       "      <td>1</td>\n",
       "      <td>0</td>\n",
       "      <td>4</td>\n",
       "      <td>1</td>\n",
       "      <td>616</td>\n",
       "      <td>Y</td>\n",
       "      <td>85</td>\n",
       "      <td>6000</td>\n",
       "      <td>1Fam</td>\n",
       "      <td>1Story</td>\n",
       "      <td>7</td>\n",
       "    </tr>\n",
       "    <tr>\n",
       "      <th>2</th>\n",
       "      <td>0</td>\n",
       "      <td>1</td>\n",
       "      <td>1</td>\n",
       "      <td>8</td>\n",
       "      <td>2</td>\n",
       "      <td>1696</td>\n",
       "      <td>Y</td>\n",
       "      <td>45</td>\n",
       "      <td>13673</td>\n",
       "      <td>1Fam</td>\n",
       "      <td>1Story</td>\n",
       "      <td>5</td>\n",
       "    </tr>\n",
       "    <tr>\n",
       "      <th>3</th>\n",
       "      <td>0</td>\n",
       "      <td>2</td>\n",
       "      <td>0</td>\n",
       "      <td>6</td>\n",
       "      <td>3</td>\n",
       "      <td>1479</td>\n",
       "      <td>Y</td>\n",
       "      <td>34</td>\n",
       "      <td>13517</td>\n",
       "      <td>1Fam</td>\n",
       "      <td>2Story</td>\n",
       "      <td>8</td>\n",
       "    </tr>\n",
       "    <tr>\n",
       "      <th>4</th>\n",
       "      <td>0</td>\n",
       "      <td>2</td>\n",
       "      <td>1</td>\n",
       "      <td>8</td>\n",
       "      <td>2</td>\n",
       "      <td>2217</td>\n",
       "      <td>Y</td>\n",
       "      <td>37</td>\n",
       "      <td>15865</td>\n",
       "      <td>1Fam</td>\n",
       "      <td>1Story</td>\n",
       "      <td>6</td>\n",
       "    </tr>\n",
       "  </tbody>\n",
       "</table>\n",
       "</div>"
      ],
      "text/plain": [
       "   PoolArea  GarageCars  Fireplaces  TotRmsAbvGrd  Baths  SqFeet CentralAir  \\\n",
       "0         0           2           0             6      2    1516          Y   \n",
       "1         0           1           0             4      1     616          Y   \n",
       "2         0           1           1             8      2    1696          Y   \n",
       "3         0           2           0             6      3    1479          Y   \n",
       "4         0           2           1             8      2    2217          Y   \n",
       "\n",
       "   Age  LotSize BldgType HouseStyle  condition  \n",
       "0   45    10004     1Fam     1Story          6  \n",
       "1   85     6000     1Fam     1Story          7  \n",
       "2   45    13673     1Fam     1Story          5  \n",
       "3   34    13517     1Fam     2Story          8  \n",
       "4   37    15865     1Fam     1Story          6  "
      ]
     },
     "execution_count": 3,
     "metadata": {},
     "output_type": "execute_result"
    }
   ],
   "source": [
    "test = pandas.read_csv('Data\\\\realestate-test.csv')\n",
    "test.head()"
   ]
  },
  {
   "cell_type": "markdown",
   "metadata": {},
   "source": [
    "**For this tutorial, we will just focus on the following predictors:**\n",
    "\n",
    "- `SqFeet`: *numeric*\n",
    "- `Age`: *numeric*\n",
    "- `BldgType`: *Categorical*\n",
    "\n",
    "**The predictors are selected based on intuition and they are somewhat random. The purpose is to show that KNN can work with numeric and categorical variable.**"
   ]
  },
  {
   "cell_type": "code",
   "execution_count": 4,
   "metadata": {},
   "outputs": [
    {
     "data": {
      "text/html": [
       "<div>\n",
       "<style scoped>\n",
       "    .dataframe tbody tr th:only-of-type {\n",
       "        vertical-align: middle;\n",
       "    }\n",
       "\n",
       "    .dataframe tbody tr th {\n",
       "        vertical-align: top;\n",
       "    }\n",
       "\n",
       "    .dataframe thead th {\n",
       "        text-align: right;\n",
       "    }\n",
       "</style>\n",
       "<table border=\"1\" class=\"dataframe\">\n",
       "  <thead>\n",
       "    <tr style=\"text-align: right;\">\n",
       "      <th></th>\n",
       "      <th>SqFeet</th>\n",
       "      <th>Age</th>\n",
       "      <th>BldgType</th>\n",
       "    </tr>\n",
       "  </thead>\n",
       "  <tbody>\n",
       "    <tr>\n",
       "      <th>0</th>\n",
       "      <td>1710</td>\n",
       "      <td>5</td>\n",
       "      <td>0</td>\n",
       "    </tr>\n",
       "    <tr>\n",
       "      <th>1</th>\n",
       "      <td>1717</td>\n",
       "      <td>91</td>\n",
       "      <td>0</td>\n",
       "    </tr>\n",
       "    <tr>\n",
       "      <th>2</th>\n",
       "      <td>2198</td>\n",
       "      <td>8</td>\n",
       "      <td>0</td>\n",
       "    </tr>\n",
       "    <tr>\n",
       "      <th>3</th>\n",
       "      <td>1362</td>\n",
       "      <td>16</td>\n",
       "      <td>0</td>\n",
       "    </tr>\n",
       "    <tr>\n",
       "      <th>4</th>\n",
       "      <td>1694</td>\n",
       "      <td>3</td>\n",
       "      <td>0</td>\n",
       "    </tr>\n",
       "  </tbody>\n",
       "</table>\n",
       "</div>"
      ],
      "text/plain": [
       "   SqFeet  Age  BldgType\n",
       "0    1710    5         0\n",
       "1    1717   91         0\n",
       "2    2198    8         0\n",
       "3    1362   16         0\n",
       "4    1694    3         0"
      ]
     },
     "execution_count": 4,
     "metadata": {},
     "output_type": "execute_result"
    }
   ],
   "source": [
    "# Select the necessary columns in train\n",
    "x_train = train[['SqFeet', 'Age', 'BldgType']]\n",
    "y_train = train[['price']]\n",
    "\n",
    "# Convert Categroical variable to numeric variable\n",
    "x_train = x_train.assign(BldgType = pandas.factorize(x_train.BldgType)[0])\n",
    "x_train.head()"
   ]
  },
  {
   "cell_type": "code",
   "execution_count": 5,
   "metadata": {},
   "outputs": [
    {
     "data": {
      "text/html": [
       "<div>\n",
       "<style scoped>\n",
       "    .dataframe tbody tr th:only-of-type {\n",
       "        vertical-align: middle;\n",
       "    }\n",
       "\n",
       "    .dataframe tbody tr th {\n",
       "        vertical-align: top;\n",
       "    }\n",
       "\n",
       "    .dataframe thead th {\n",
       "        text-align: right;\n",
       "    }\n",
       "</style>\n",
       "<table border=\"1\" class=\"dataframe\">\n",
       "  <thead>\n",
       "    <tr style=\"text-align: right;\">\n",
       "      <th></th>\n",
       "      <th>SqFeet</th>\n",
       "      <th>Age</th>\n",
       "      <th>BldgType</th>\n",
       "    </tr>\n",
       "  </thead>\n",
       "  <tbody>\n",
       "    <tr>\n",
       "      <th>0</th>\n",
       "      <td>1516</td>\n",
       "      <td>45</td>\n",
       "      <td>0</td>\n",
       "    </tr>\n",
       "    <tr>\n",
       "      <th>1</th>\n",
       "      <td>616</td>\n",
       "      <td>85</td>\n",
       "      <td>0</td>\n",
       "    </tr>\n",
       "    <tr>\n",
       "      <th>2</th>\n",
       "      <td>1696</td>\n",
       "      <td>45</td>\n",
       "      <td>0</td>\n",
       "    </tr>\n",
       "    <tr>\n",
       "      <th>3</th>\n",
       "      <td>1479</td>\n",
       "      <td>34</td>\n",
       "      <td>0</td>\n",
       "    </tr>\n",
       "    <tr>\n",
       "      <th>4</th>\n",
       "      <td>2217</td>\n",
       "      <td>37</td>\n",
       "      <td>0</td>\n",
       "    </tr>\n",
       "  </tbody>\n",
       "</table>\n",
       "</div>"
      ],
      "text/plain": [
       "   SqFeet  Age  BldgType\n",
       "0    1516   45         0\n",
       "1     616   85         0\n",
       "2    1696   45         0\n",
       "3    1479   34         0\n",
       "4    2217   37         0"
      ]
     },
     "execution_count": 5,
     "metadata": {},
     "output_type": "execute_result"
    }
   ],
   "source": [
    "# Select the necessary columns test\n",
    "x_test = test[['SqFeet', 'Age', 'BldgType']]\n",
    "# Convert Categroical variable to numeric variable\n",
    "x_test = x_test.assign(BldgType = pandas.factorize(x_test.BldgType)[0])\n",
    "x_test.head()"
   ]
  },
  {
   "cell_type": "markdown",
   "metadata": {},
   "source": [
    "**Running the KNN Model**"
   ]
  },
  {
   "cell_type": "code",
   "execution_count": 6,
   "metadata": {},
   "outputs": [
    {
     "data": {
      "text/plain": [
       "{'algorithm': 'auto',\n",
       " 'leaf_size': 30,\n",
       " 'metric': 'minkowski',\n",
       " 'metric_params': None,\n",
       " 'n_jobs': None,\n",
       " 'n_neighbors': 5,\n",
       " 'p': 2,\n",
       " 'weights': 'uniform'}"
      ]
     },
     "execution_count": 6,
     "metadata": {},
     "output_type": "execute_result"
    }
   ],
   "source": [
    "# Choose a base case for 5 nearest neighbors\n",
    "k = 5\n",
    "\n",
    "# Set up the model class\n",
    "model = sklearn.neighbors.KNeighborsRegressor(n_neighbors = k)\n",
    "\n",
    "# Fit the model\n",
    "model.fit(X = x_train, y = y_train)\n",
    "\n",
    "# Print the Parameters\n",
    "model.get_params()"
   ]
  },
  {
   "cell_type": "markdown",
   "metadata": {},
   "source": [
    "**Report Mean Squared Error**"
   ]
  },
  {
   "cell_type": "code",
   "execution_count": 7,
   "metadata": {},
   "outputs": [
    {
     "data": {
      "text/plain": [
       "price    1666.474348\n",
       "dtype: float64"
      ]
     },
     "execution_count": 7,
     "metadata": {},
     "output_type": "execute_result"
    }
   ],
   "source": [
    "numpy.mean((y_train - model.predict(x_train))**2)"
   ]
  },
  {
   "cell_type": "markdown",
   "metadata": {},
   "source": [
    "**Use Cross Validation to find the best `k`**\n",
    "- Reference: https://towardsdatascience.com/building-a-k-nearest-neighbors-k-nn-model-with-scikit-learn-51209555453a"
   ]
  },
  {
   "cell_type": "code",
   "execution_count": 8,
   "metadata": {},
   "outputs": [
    {
     "data": {
      "text/plain": [
       "GridSearchCV(cv=10, estimator=KNeighborsRegressor(),\n",
       "             param_grid={'n_neighbors': array([ 3,  4,  5,  6,  7,  8,  9, 10, 11, 12, 13, 14, 15, 16, 17, 18, 19,\n",
       "       20, 21, 22, 23, 24, 25, 26, 27, 28, 29, 30, 31, 32, 33, 34, 35, 36,\n",
       "       37, 38, 39, 40, 41, 42, 43, 44, 45, 46, 47, 48, 49, 50])})"
      ]
     },
     "execution_count": 8,
     "metadata": {},
     "output_type": "execute_result"
    }
   ],
   "source": [
    "# Create a new KNN object\n",
    "knn2 = sklearn.neighbors.KNeighborsRegressor()\n",
    "\n",
    "# Create a dictionary of all values we want to test for n_neighbors\n",
    "param_grid = {'n_neighbors': numpy.arange(3, 51)}\n",
    "\n",
    "# Use gridsearch to test all values for n_neighbors\n",
    "knn_gscv = sklearn.model_selection.GridSearchCV(knn2, param_grid, cv=10)\n",
    "\n",
    "# Fit model to data\n",
    "knn_gscv.fit(X = x_train, y = y_train)"
   ]
  },
  {
   "cell_type": "markdown",
   "metadata": {},
   "source": [
    "**Report the best `k`**"
   ]
  },
  {
   "cell_type": "code",
   "execution_count": 9,
   "metadata": {},
   "outputs": [
    {
     "data": {
      "text/plain": [
       "{'n_neighbors': 12}"
      ]
     },
     "execution_count": 9,
     "metadata": {},
     "output_type": "execute_result"
    }
   ],
   "source": [
    "knn_gscv.best_params_"
   ]
  },
  {
   "cell_type": "markdown",
   "metadata": {},
   "source": [
    "**Return the coefficient of determination**"
   ]
  },
  {
   "cell_type": "code",
   "execution_count": 10,
   "metadata": {},
   "outputs": [
    {
     "data": {
      "text/plain": [
       "0.6556953925874873"
      ]
     },
     "execution_count": 10,
     "metadata": {},
     "output_type": "execute_result"
    }
   ],
   "source": [
    "knn_gscv.best_score_"
   ]
  },
  {
   "cell_type": "markdown",
   "metadata": {},
   "source": [
    "**Making Predictions**"
   ]
  },
  {
   "cell_type": "code",
   "execution_count": 11,
   "metadata": {},
   "outputs": [
    {
     "data": {
      "text/plain": [
       "0    154.568500\n",
       "1     86.237500\n",
       "2    166.575417\n",
       "3    165.179167\n",
       "4    262.100583\n",
       "Name: predict, dtype: float64"
      ]
     },
     "execution_count": 11,
     "metadata": {},
     "output_type": "execute_result"
    }
   ],
   "source": [
    "test['predict'] = knn_gscv.predict(x_test)\n",
    "test.predict.head()"
   ]
  }
 ],
 "metadata": {
  "kernelspec": {
   "display_name": "Python 3",
   "language": "python",
   "name": "python3"
  },
  "language_info": {
   "codemirror_mode": {
    "name": "ipython",
    "version": 3
   },
   "file_extension": ".py",
   "mimetype": "text/x-python",
   "name": "python",
   "nbconvert_exporter": "python",
   "pygments_lexer": "ipython3",
   "version": "3.7.6"
  }
 },
 "nbformat": 4,
 "nbformat_minor": 4
}
